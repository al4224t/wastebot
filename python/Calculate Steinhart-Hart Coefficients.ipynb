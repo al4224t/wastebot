{
 "cells": [
  {
   "cell_type": "code",
   "execution_count": 1,
   "metadata": {},
   "outputs": [
    {
     "name": "stdout",
     "output_type": "stream",
     "text": [
      "a_fit: 0.0007211385988249983\n",
      "b_fit: 0.00021700362404422229\n",
      "c_fit: 8.78016643679097e-08\n"
     ]
    }
   ],
   "source": [
    "import numpy as np\n",
    "from scipy.optimize import least_squares\n",
    "import csv\n",
    "\n",
    "therm_name = \"B57560G11104\" # thermistor name\n",
    "csv_file = open(\"./\" + therm_name + \".csv\", \"r\")\n",
    "f = csv.DictReader(csv_file, delimiter=\",\", doublequote=True, lineterminator=\"\\n\", quotechar='\"', skipinitialspace=True)\n",
    "\n",
    "number_of_elem = 72 # You must change this value when you use another thermistor property file.\n",
    "\n",
    "rs = np.zeros(number_of_elem)\n",
    "tmps = np.zeros(number_of_elem)\n",
    "\n",
    "for i, row in enumerate(f):\n",
    "    tmps[i]  = row[\"T\"]\n",
    "    rs[i]  = row[\"RT/R25\"]\n",
    "\n",
    "rt = 100000.0 # The resistance of the thermistor at 25°C (unit: ohm).\n",
    "rs = rs * rt\n",
    "\n",
    "# model\n",
    "def steinhart_hart(rs, a, b, c):\n",
    "    return 1.0 / (a + b * np.log(rs) + c * np.log(rs)**3) - 273.15\n",
    "\n",
    "def calc_residuals(params, rs, tmps):\n",
    "    model_tmps = steinhart_hart(rs, params[0], params[1], params[2])\n",
    "    return model_tmps - tmps\n",
    "\n",
    "a_init = 7.1 * 10 ** (-4) # initial value of the coefficient A\n",
    "b_init = 2.2 * 10 ** (-4) # initial value of the coefficient B\n",
    "c_init = 8.5 * 10 ** (-8) # initial value of the coefficient C\n",
    "\n",
    "# fitting\n",
    "res = least_squares(calc_residuals, np.array([a_init, b_init, c_init]), args=(rs, tmps))\n",
    "\n",
    "a_fit = res.x[0]\n",
    "b_fit = res.x[1]\n",
    "c_fit = res.x[2]\n",
    "tmps_fit = steinhart_hart(rs, a_fit, b_fit, c_fit)\n",
    "print \"a_fit: \" + str(a_fit)\n",
    "print \"b_fit: \" + str(b_fit)\n",
    "print \"c_fit: \" + str(c_fit)\n",
    "\n",
    "# visualize\n",
    "import matplotlib.pyplot as plt\n",
    "\n",
    "plt.plot(rs, tmps)\n",
    "plt.plot(rs, tmps_fit, linestyle=\"dashed\")\n",
    "plt.xlabel(\"resistance[ohm]\")\n",
    "plt.ylabel(\"temperature[degree]\")\n",
    "\n",
    "# save the fitting result\n",
    "import json\n",
    "import collections as cl\n",
    "\n",
    "coefficients = cl.OrderedDict()\n",
    "coefficients[\"A\"] = a_fit\n",
    "coefficients[\"B\"] = b_fit\n",
    "coefficients[\"C\"] = c_fit\n",
    "\n",
    "with open(\"./\" + therm_name + \".json\",\"w\") as fw:\n",
    "    json.dump(coefficients, fw, indent=4)\n"
   ]
  },
  {
   "cell_type": "code",
   "execution_count": null,
   "metadata": {},
   "outputs": [],
   "source": []
  }
 ],
 "metadata": {
  "kernelspec": {
   "display_name": "Python 2",
   "language": "python",
   "name": "python2"
  },
  "language_info": {
   "codemirror_mode": {
    "name": "ipython",
    "version": 2
   },
   "file_extension": ".py",
   "mimetype": "text/x-python",
   "name": "python",
   "nbconvert_exporter": "python",
   "pygments_lexer": "ipython2",
   "version": "2.7.15"
  }
 },
 "nbformat": 4,
 "nbformat_minor": 2
}
