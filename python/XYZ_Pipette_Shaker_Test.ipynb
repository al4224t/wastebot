{
 "cells": [
  {
   "cell_type": "markdown",
   "metadata": {},
   "source": [
    "# How to run wastebot\n",
    "\n",
    "This notebook is to walk through how to run the wastebot. "
   ]
  },
  {
   "cell_type": "markdown",
   "metadata": {},
   "source": [
    "## Import modules\n",
    "A module is a set of functions that can do lots of useful stuff. Kevin and Jonathan made a lot of convenient functions and packed them as modules, which are \n",
    " - robot module \n",
    " - procedures module\n",
    " \n",
    "but `procedures` module call `robot` module internally, so you only need to import this module (more specifically, `DummyExperiment` function)\n",
    "\n",
    "In a nutshell, you call this section everytime you run the robot \n",
    "\n",
    "The next cell also contains all the python module required to analyse the data, such as:\n",
    "- Communication with R\n",
    "- Creation of boxplot\n",
    "- Creation of 3D plots\n",
    "- Creation of widgets (selection of parameter and dynamic plots)"
   ]
  },
  {
   "cell_type": "code",
   "execution_count": 1,
   "metadata": {
    "collapsed": true
   },
   "outputs": [],
   "source": [
    "import os\n",
    "import sys\n",
    "import inspect\n",
    "import time\n",
    "import csv\n",
    "import numpy as np\n",
    "import datetime\n",
    "import subprocess \n",
    "\n",
    "# OpenCV for image acquistion from webcan and subsequent analysis\n",
    "import cv2\n",
    "\n",
    "# load Experiment1 procedures module, which will allow access to all general\n",
    "# procedure functions and those from Experiment1\n",
    "#from procedures.procedures import Experiment1\n",
    "from procedures.procedures import DummyExperiment\n",
    "# add root path to access project modules\n",
    "HERE_PATH = os.path.dirname(os.path.abspath(inspect.getfile(inspect.currentframe())))\n",
    "sys.path.append(HERE_PATH)\n",
    "\n",
    "#allowed communication with R\n",
    "from scipy.integrate import odeint\n",
    "from matplotlib import pyplot as plt\n",
    "\n",
    "#import for boxplot\n",
    "import string\n",
    "import plotly.plotly as py\n",
    "import plotly.graph_objs as go\n",
    "\n",
    "#from mpl_toolkits.mplot3d import Axes3D # for 3d plot\n",
    "% matplotlib inline\n",
    "import pandas as pd\n",
    "import seaborn as sns\n",
    "sns.set()\n",
    "sns.set_context(\"poster\")\n",
    "sns.set_style(\"whitegrid\")\n",
    "\n",
    "## dynamic plot\n",
    "from ipywidgets import widgets, Button, Layout\n",
    "from IPython.display import display\n",
    "\n",
    "## import packages to communicate with R\n",
    "from numpy import *\n",
    "import scipy as sp\n",
    "from pandas import *\n",
    "from rpy2.robjects.packages import importr\n",
    "import rpy2.robjects as ro\n",
    "#import pandas.rpy.common as com\n",
    "\n",
    "%load_ext rpy2.ipython\n",
    "from rpy2.robjects import r, pandas2ri\n",
    "from rpy2 import robjects\n",
    "from rpy2.robjects.packages import importr\n",
    "\n",
    "## import ggplot (python package)\n",
    "#from ggplot import *\n",
    "\n",
    "# import R packages\n",
    "\n",
    "d = {'package.dependencies': 'package_dot_dependencies',\n",
    "     'package_dependencies': 'package_uscore_dependencies'}\n",
    "\n",
    "from rpy2.robjects.packages import importr\n",
    "base = importr('base')\n",
    "utils = importr('utils')\n",
    "gc = importr('growthcurver')\n",
    "plyr = importr('plyr')\n",
    "ggplot2 = importr('ggplot2')\n",
    "reshape2 = importr('reshape2')\n",
    "dat_tab = importr('data.table')\n",
    "stats = importr('stats', robject_translations = d)\n",
    "from rpy2.robjects import pandas2ri\n",
    "pandas2ri.activate()"
   ]
  },
  {
   "cell_type": "markdown",
   "metadata": {},
   "source": [
    "## Initialising the robot\n",
    "Robot needs a configuration file to know what's available or not (e.g. Z-axis is available? A pipette is equipped?, etc).  "
   ]
  },
  {
   "cell_type": "code",
   "execution_count": 3,
   "metadata": {
    "scrolled": true
   },
   "outputs": [
    {
     "name": "stderr",
     "output_type": "stream",
     "text": [
      "INFO:commanduino.CommandManager:Found CommandManager on port \"COM17\", init time was 1.029 seconds\n",
      "INFO:commanduino.CommandManager:Device \"Y\" with id \"Y\" and of type \"LINEARACCELSTEPPER\" found in 0.016s\n",
      "INFO:commanduino.CommandManager:Device \"Y\" with id \"Y\" and of type \"LINEARACCELSTEPPER\" found in the register, creating it\n",
      "INFO:commanduino.CommandManager:Device \"X\" with id \"X\" and of type \"LINEARACCELSTEPPER\" found in 0.016s\n",
      "INFO:commanduino.CommandManager:Device \"X\" with id \"X\" and of type \"LINEARACCELSTEPPER\" found in the register, creating it\n",
      "INFO:commanduino.CommandManager:Device \"S\" with id \"S\" and of type \"LINEARACCELSTEPPER\" found in 0.015s\n",
      "INFO:commanduino.CommandManager:Device \"S\" with id \"S\" and of type \"LINEARACCELSTEPPER\" found in the register, creating it\n",
      "INFO:commanduino.CommandManager:Device \"Z\" with id \"Z\" and of type \"LINEARACCELSTEPPER\" found in 0.015s\n",
      "INFO:commanduino.CommandManager:Device \"Z\" with id \"Z\" and of type \"LINEARACCELSTEPPER\" found in the register, creating it\n",
      "INFO:commanduino.CommandManager:Device \"P\" with id \"P\" and of type \"LINEARACCELSTEPPER\" found in 0.016s\n",
      "INFO:commanduino.CommandManager:Device \"P\" with id \"P\" and of type \"LINEARACCELSTEPPER\" found in the register, creating it\n"
     ]
    }
   ],
   "source": [
    "# create general procedures object, no need to link configfiles\n",
    "# this initializes all parts of the robot\n",
    "exp1 = DummyExperiment(robot_configfile=\"robot/robot_config.json\")\n",
    "\n",
    "# define initial position for X,Y,Z\n",
    "init_x = 0\n",
    "init_y = 0\n",
    "init_z = 50\n",
    "# pitch between wells cf. http://ibidi.com/xtproducts/en/ibidi-Labware/m-Plates/m-Plate-24-Well\n",
    "well_pitch = 19.30 "
   ]
  },
  {
   "cell_type": "markdown",
   "metadata": {},
   "source": [
    "# Moving robot\n",
    "There are a number of functions defined in `robot.py`, but what we need is essentially only one: `move_to()` \n",
    "\n",
    "For more functions, see `robot.py` in `C:\\Users\\turbidostat\\Desktop\\wastebot\\wastebot_complete\\software\\python\\robot`"
   ]
  },
  {
   "cell_type": "code",
   "execution_count": 7,
   "metadata": {
    "collapsed": true
   },
   "outputs": [],
   "source": [
    "exp1.robot.move_to([150,200,0])"
   ]
  },
  {
   "cell_type": "code",
   "execution_count": 4,
   "metadata": {
    "collapsed": true
   },
   "outputs": [],
   "source": [
    "exp1.robot.dispose_tip()"
   ]
  },
  {
   "cell_type": "code",
   "execution_count": 6,
   "metadata": {
    "collapsed": true
   },
   "outputs": [],
   "source": [
    "exp1.robot.home()"
   ]
  },
  {
   "cell_type": "markdown",
   "metadata": {},
   "source": [
    "# Using the Pipette\n",
    "Functions are from pipette.py and explained in the documentation. The main functions are 'aspirate(volume_in_uL)' and 'dispense(volume_in_uL)'. \n",
    "\n",
    "The speed and acceleration / deceleration of the pipette can also be set on the fly using the 'speed(steps_per_sec)' and 'acceleration(steps_per_sec_sq)' functions."
   ]
  },
  {
   "cell_type": "code",
   "execution_count": null,
   "metadata": {
    "collapsed": true
   },
   "outputs": [],
   "source": [
    "#aspirating 1000uL\n",
    "exp1.robot.p.aspirate(1000)"
   ]
  },
  {
   "cell_type": "code",
   "execution_count": 17,
   "metadata": {},
   "outputs": [
    {
     "data": {
      "text/plain": [
       "'Volume 300uL dispensed from pipette'"
      ]
     },
     "execution_count": 17,
     "metadata": {},
     "output_type": "execute_result"
    }
   ],
   "source": [
    "#dispensing 300uL\n",
    "exp1.robot.p.dispense(300)"
   ]
  },
  {
   "cell_type": "code",
   "execution_count": 12,
   "metadata": {},
   "outputs": [
    {
     "data": {
      "text/plain": [
       "'Volume 100uL dispensed from pipette'"
      ]
     },
     "execution_count": 12,
     "metadata": {},
     "output_type": "execute_result"
    }
   ],
   "source": [
    "#dispensing 100uL\n",
    "exp1.robot.p.dispense(100)"
   ]
  },
  {
   "cell_type": "code",
   "execution_count": 18,
   "metadata": {
    "collapsed": true
   },
   "outputs": [],
   "source": [
    "#we can change the speed. The default is 6000.\n",
    "exp1.robot.p.speed(6000)"
   ]
  },
  {
   "cell_type": "code",
   "execution_count": 16,
   "metadata": {
    "collapsed": true
   },
   "outputs": [],
   "source": [
    "#we can change the acceleration. The default is 2000.\n",
    "exp1.robot.p.acceleration(1000)"
   ]
  },
  {
   "cell_type": "code",
   "execution_count": null,
   "metadata": {
    "collapsed": true
   },
   "outputs": [],
   "source": [
    "#you can use this home function if you want to return the pipette to zero using the endstop.\n",
    "#it's faster to use the dispense function with the remaining volume though\n",
    "exp1.robot.p.home()"
   ]
  },
  {
   "cell_type": "markdown",
   "metadata": {},
   "source": [
    "# Using the Shaker\n",
    "Functions are from shaker.py and explained in the documentation. The main function is 'shake(shake_angle, n_shakes, interval_angle, n_sets, shake_speed, interval_speed, acceleration)'. There is also a function for a single rotation, 'rotate(angle_in_degrees)' and a function for moving to the closest home position 'zero()'.\n",
    "\n",
    "The speed and acceleration / deceleration of the shaker can also be set on the fly using the 'speed(steps_per_sec)' and 'acceleration(steps_per_sec_sq)' functions. This doesn't affect the shake function, and you must set the speed and acceleration after using the shake function."
   ]
  },
  {
   "cell_type": "code",
   "execution_count": 6,
   "metadata": {
    "collapsed": true
   },
   "outputs": [],
   "source": [
    "#Let's do a complete shake operation\n",
    "#Rapid shaking 10x back and forth by 10 degrees. \n",
    "#Using 6 sets of shaking, 60 degrees apart.\n",
    "#shaking speed = 6000, interval speed = 250 and acceleration = 12000.\n",
    "exp1.robot.s.shake(10, 10, 60, 6, 6000, 250, 12000)\n",
    "#the shake operation ends with the zero() function. Otherwise you should call it once finished using the shaker."
   ]
  },
  {
   "cell_type": "code",
   "execution_count": 5,
   "metadata": {
    "collapsed": true
   },
   "outputs": [],
   "source": [
    "#we can do a single rotation. \n",
    "#Use the speed and acceleration functions to set the speed and acceleration\n",
    "exp1.robot.s.rotate(30)"
   ]
  },
  {
   "cell_type": "code",
   "execution_count": 9,
   "metadata": {
    "collapsed": true
   },
   "outputs": [],
   "source": [
    "#we can set the acceleration.\n",
    "#ignored and reset by the shake function\n",
    "exp1.robot.s.acceleration(1000)"
   ]
  },
  {
   "cell_type": "code",
   "execution_count": 8,
   "metadata": {
    "collapsed": true
   },
   "outputs": [],
   "source": [
    "#we can set the speed.\n",
    "#ignored and reset by the shake function\n",
    "exp1.robot.s.speed(1000)"
   ]
  },
  {
   "cell_type": "code",
   "execution_count": 19,
   "metadata": {
    "collapsed": true
   },
   "outputs": [],
   "source": [
    "#we can rotate to the closest home position without using the limit switch\n",
    "exp1.robot.s.zero()"
   ]
  }
 ],
 "metadata": {
  "kernelspec": {
   "display_name": "Python 2",
   "language": "python",
   "name": "python2"
  },
  "language_info": {
   "codemirror_mode": {
    "name": "ipython",
    "version": 2
   },
   "file_extension": ".py",
   "mimetype": "text/x-python",
   "name": "python",
   "nbconvert_exporter": "python",
   "pygments_lexer": "ipython2",
   "version": "2.7.13"
  }
 },
 "nbformat": 4,
 "nbformat_minor": 2
}
