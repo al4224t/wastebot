{
 "cells": [
  {
   "cell_type": "code",
   "execution_count": 4,
   "metadata": {
    "scrolled": true
   },
   "outputs": [
    {
     "ename": "ImportError",
     "evalue": "No module named controller",
     "output_type": "error",
     "traceback": [
      "\u001b[0;31m---------------------------------------------------------------------------\u001b[0m",
      "\u001b[0;31mImportError\u001b[0m                               Traceback (most recent call last)",
      "\u001b[0;32m<ipython-input-4-bdc82dc2447a>\u001b[0m in \u001b[0;36m<module>\u001b[0;34m()\u001b[0m\n\u001b[1;32m     58\u001b[0m                                   \"initial_pv\": hb1_initial_tmp}\n\u001b[1;32m     59\u001b[0m \u001b[0;34m\u001b[0m\u001b[0m\n\u001b[0;32m---> 60\u001b[0;31m \u001b[0;32mfrom\u001b[0m \u001b[0mcontroller\u001b[0m \u001b[0;32mimport\u001b[0m \u001b[0mController\u001b[0m\u001b[0;34m\u001b[0m\u001b[0m\n\u001b[0m\u001b[1;32m     61\u001b[0m \u001b[0mcon1\u001b[0m \u001b[0;34m=\u001b[0m \u001b[0mController\u001b[0m\u001b[0;34m(\u001b[0m\u001b[0mcontroller_input\u001b[0m\u001b[0;34m)\u001b[0m\u001b[0;34m\u001b[0m\u001b[0m\n\u001b[1;32m     62\u001b[0m \u001b[0;34m\u001b[0m\u001b[0m\n",
      "\u001b[0;31mImportError\u001b[0m: No module named controller"
     ]
    }
   ],
   "source": [
    "import os\n",
    "import sys\n",
    "import inspect\n",
    "import numpy as np\n",
    "\n",
    "# add root path to access project modules\n",
    "HERE_PATH = os.path.dirname(os.path.abspath(inspect.getfile(inspect.currentframe())))\n",
    "sys.path.append(HERE_PATH)\n",
    "\n",
    "# add the path of the wastebot package\n",
    "WASTEBOT_PATH= os.path.join(HERE_PATH, '../library/wastebot')\n",
    "sys.path.append(WASTEBOT_PATH)\n",
    "from wastebot.heatbed.simulation import Heatbed\n",
    "\n",
    "# <initialize a virtual heatbed>\n",
    "# heatbed only version\n",
    "# hb1_width = 0.20    # width of heatbed1 (unit: m)\n",
    "# hb1_depth = 0.20    # depth of heatbed1 (unit: m)\n",
    "# hb1_height = 0.0015 # height of heatbed1 (unit: m)\n",
    "\n",
    "# heatbed and aluminum plate\n",
    "hb1_width = 0.375    # width of heatbed1 (unit: m)\n",
    "hb1_depth = 0.365    # depth of heatbed1 (unit: m)\n",
    "hb1_height = 0.010 # height of heatbed1 (unit: m)\n",
    "\n",
    "hb1_volume = hb1_width * hb1_depth * hb1_height # volume of heatbed1 (unit: m^3)\n",
    "hb1_surf_area = hb1_width * hb1_depth * 2 + hb1_width * hb1_height * 2 + hb1_depth * hb1_height * 2 # surface area of heatbed1 (unit: m^2)\n",
    "hb1_density = 2.7 * 10 ** 6 # density of heatbed1 (using the data of almiumum . unit: g/m^3)\n",
    "hb1_sh = 0.88 # specific heat of heatbed1 (using the data of almiumum. unit: J/(g•K))\n",
    "hb1_hc = hb1_sh  * hb1_density * hb1_volume # heat capacity of heatbed1 (unit: J/K)\n",
    "\n",
    "hb1_initial_power = 13 # initail power of heatbed 1(unit: W)\n",
    "hb1_max_power = 130.0 # max power of heatbed 1(unit: W)\n",
    "\n",
    "hb1_initial_tmp = 20.0 # initial temperature of heatbed 1(unit: ℃)\n",
    "\n",
    "# construct a virtual heatbed\n",
    "hb1 = Heatbed(hb1_initial_tmp, hb1_hc, hb1_surf_area, hb1_initial_power, hb1_max_power)\n",
    "\n",
    "# body of the simulation \n",
    "air_tmp = 20.0 # temperature of the air in the room (unit: ℃)\n",
    "air_htc = 9.3 # heat transfer coefficient of the air in the room. (unit: W/(m^2 * K))\n",
    "sampling_frequency = 10.0 # sampling frequency of simulation (unit: Hz)\n",
    "\n",
    "number_of_steps = 20000 # number of sampling steps \n",
    "\n",
    "hb1_tmps = np.zeros(number_of_steps, dtype=float)\n",
    "\n",
    "target_tmp = 37.0\n",
    "\n",
    "controller_input = {\"sv\":target_tmp,\n",
    "                                  \"pv_range\":np.array([10.0, 50.0]),\n",
    "                                  \"mv_max\":hb1_max_power,\n",
    "                                  \"prop_band\":10.0,\n",
    "                                  \"integral_time\":1500.0,\n",
    "                                  \"derivative_time\":0.0007,\n",
    "                                  \"initial_pv\": hb1_initial_tmp}\n",
    "\n",
    "from wastebot.heatbed import Controller\n",
    "con1 = Controller(controller_input)\n",
    "\n",
    "for i in xrange(number_of_steps):\n",
    "    hb1_tmps[i] = hb1.tmp\n",
    "    con1.pv = hb1.tmp\n",
    "    hb1.power = con1.mv       \n",
    "    hb1.update_tmp(1.0/sampling_frequency, air_tmp, air_htc)\n",
    "\n",
    "# visualize\n",
    "import matplotlib.pyplot as plt\n",
    "t = np.arange(number_of_steps, dtype=float) / sampling_frequency\n",
    "plt.plot(t, hb1_tmps)\n",
    "plt.hlines(target_tmp, t[0], t[-1], linestyles=\"dashed\")\n",
    "\n",
    "c_ymin, c_ymax = plt.ylim()\n",
    "if c_ymax < (target_tmp +1):\n",
    "    plt.ylim([c_ymin, target_tmp + 1])\n",
    "\n",
    "plt.xlabel(\"time[sec]\")\n",
    "plt.ylabel(\"temperature[degree]\")\n",
    "plt.title(\"'PID' control\")"
   ]
  },
  {
   "cell_type": "code",
   "execution_count": null,
   "metadata": {},
   "outputs": [],
   "source": []
  }
 ],
 "metadata": {
  "kernelspec": {
   "display_name": "Python 2",
   "language": "python",
   "name": "python2"
  },
  "language_info": {
   "codemirror_mode": {
    "name": "ipython",
    "version": 2
   },
   "file_extension": ".py",
   "mimetype": "text/x-python",
   "name": "python",
   "nbconvert_exporter": "python",
   "pygments_lexer": "ipython2",
   "version": "2.7.15"
  }
 },
 "nbformat": 4,
 "nbformat_minor": 2
}
